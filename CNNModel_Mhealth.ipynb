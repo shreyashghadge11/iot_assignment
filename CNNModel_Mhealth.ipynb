{
  "cells": [
    {
      "cell_type": "code",
      "execution_count": null,
      "metadata": {
        "id": "Zjjc-ZRh5lDQ"
      },
      "outputs": [],
      "source": [
        "import pandas as pd\n",
        "import numpy as np\n",
        "import matplotlib.pyplot as plt\n",
        "import seaborn as sns\n",
        "from sklearn.model_selection import train_test_split, cross_val_score\n",
        "from sklearn.metrics import classification_report, accuracy_score, recall_score, precision_score, f1_score, confusion_matrix\n",
        "from sklearn.preprocessing import StandardScaler\n",
        "from numpy import array\n",
        "from keras.models import Sequential\n",
        "from keras.layers import Dense, Flatten, Dropout\n",
        "from keras.layers.convolutional import Conv1D, MaxPooling1D\n",
        "from tensorflow.keras.utils import to_categorical\n",
        "from sklearn.model_selection import KFold"
      ]
    },
    {
      "cell_type": "code",
      "execution_count": null,
      "metadata": {
        "id": "vASVZwgh5pGy"
      },
      "outputs": [],
      "source": [
        "data = pd.read_csv('mhealth_full.csv')"
      ]
    },
    {
      "cell_type": "code",
      "execution_count": null,
      "metadata": {
        "id": "g_7AWSIX5ryV"
      },
      "outputs": [],
      "source": [
        "data_activity_0 = data[data['activity'] == 0]\n",
        "data_activity_else = data[data['activity'] != 0]\n",
        "\n",
        "data_activity_0 = data_activity_0.sample(n=30720, random_state=1)\n",
        "data = pd.concat([data_activity_0, data_activity_else])"
      ]
    },
    {
      "cell_type": "code",
      "execution_count": null,
      "metadata": {
        "id": "CMfHvEHs5v2g"
      },
      "outputs": [],
      "source": [
        "X = data.drop(['activity', 'subject'], axis=1)\n",
        "y = data['activity']"
      ]
    },
    {
      "cell_type": "code",
      "execution_count": null,
      "metadata": {
        "colab": {
          "base_uri": "https://localhost:8080/"
        },
        "id": "hXwyLgeJAjpZ",
        "outputId": "40acd22a-26ae-4bf4-e7d4-0d64a3e581cd"
      },
      "outputs": [
        {
          "data": {
            "text/plain": [
              "Index(['acc_ch_x', 'acc_ch_y', 'acc_ch_z', 'acc_la_x', 'acc_la_y', 'acc_la_z',\n",
              "       'gyr_la_x', 'gyr_la_y', 'gyr_la_z', 'mag_la_x', 'mag_la_y', 'mag_la_z',\n",
              "       'acc_rw_x', 'acc_rw_y', 'acc_rw_z', 'gyr_rw_x', 'gyr_rw_y', 'gyr_rw_z',\n",
              "       'mag_rw_x', 'mag_rw_y', 'mag_rw_z'],\n",
              "      dtype='object')"
            ]
          },
          "execution_count": 35,
          "metadata": {
            "tags": []
          },
          "output_type": "execute_result"
        }
      ],
      "source": [
        "X.columns"
      ]
    },
    {
      "cell_type": "code",
      "execution_count": null,
      "metadata": {
        "colab": {
          "base_uri": "https://localhost:8080/"
        },
        "id": "5gvkGthuAoWH",
        "outputId": "6bcf2f49-4520-4b6d-c75e-a8e80c8ed79e"
      },
      "outputs": [
        {
          "data": {
            "text/plain": [
              "978959      0\n",
              "332102      0\n",
              "153015      0\n",
              "776193      0\n",
              "641719      0\n",
              "           ..\n",
              "1213641    12\n",
              "1213642    12\n",
              "1213643    12\n",
              "1213644    12\n",
              "1213645    12\n",
              "Name: activity, Length: 373915, dtype: int64"
            ]
          },
          "execution_count": 37,
          "metadata": {
            "tags": []
          },
          "output_type": "execute_result"
        }
      ],
      "source": [
        "y"
      ]
    },
    {
      "cell_type": "code",
      "execution_count": null,
      "metadata": {
        "id": "QV48x16t5xhA"
      },
      "outputs": [],
      "source": [
        "X_scaled = StandardScaler().fit_transform(X)"
      ]
    },
    {
      "cell_type": "code",
      "execution_count": null,
      "metadata": {
        "id": "w7DusUU25zri"
      },
      "outputs": [],
      "source": [
        "X_train, X_test, y_train, y_test = train_test_split(X_scaled, y, test_size=0.25, random_state=1)"
      ]
    },
    {
      "cell_type": "code",
      "execution_count": null,
      "metadata": {
        "id": "eZbL57IXRoIf"
      },
      "outputs": [],
      "source": [
        "scaler = StandardScaler().fit(X_train)\n",
        "X_train_scaled = scaler.transform(X_train)\n",
        "X_test_scaled = scaler.transform(X_test)"
      ]
    },
    {
      "cell_type": "code",
      "execution_count": null,
      "metadata": {
        "id": "2LXD4E7JFm-Z"
      },
      "outputs": [],
      "source": [
        "def results_summarizer(y_true, y_pred):\n",
        "    cm = confusion_matrix(y_true, y_pred)\n",
        "    acc = accuracy_score(y_true, y_pred)\n",
        "    prec = precision_score(y_true, y_pred, average='macro')\n",
        "    rec = recall_score(y_true, y_pred, average='macro')\n",
        "    f1 = f1_score(y_true, y_pred, average='macro')\n",
        "    \n",
        "    activity_map = {\n",
        "        0: 'Null',\n",
        "        1: 'Standing still',  \n",
        "        2: 'Sitting and relaxing', \n",
        "        3: 'Lying down',  \n",
        "        4: 'Walking',  \n",
        "        5: 'Climbing stairs',  \n",
        "        6: 'Waist bends forward',\n",
        "        7: 'Frontal elevation of arms', \n",
        "        8: 'Knees bending (crouching)', \n",
        "        9: 'Cycling', \n",
        "        10: 'Jogging', \n",
        "        11: 'Running', \n",
        "        12: 'Jump front & back' \n",
        "    }\n",
        "    plt.figure(figsize=(14, 12))\n",
        "    \n",
        "    sns.heatmap(cm,\n",
        "                annot=True,\n",
        "                cmap='Blues',\n",
        "                xticklabels=activity_map.values(),\n",
        "                yticklabels=activity_map.values()\n",
        "               ) \n",
        "    \n",
        "    plt.title('Confusion Matrix')\n",
        "    plt.xlabel('Predicted Activity')\n",
        "    plt.ylabel('Actual Activity')\n",
        "    plt.show()\n",
        "    \n",
        "    print(f'Accuracy Score: ' + '{:.4%}'.format(acc))\n",
        "    print(f'Precision Score: ' + '{:.4%}'.format(prec))\n",
        "    print(f'Recall Score: ' + '{:.4%}'.format(rec))\n",
        "    print(f'F_1 Score: ' + '{:.4%}'.format(f1))"
      ]
    },
    {
      "cell_type": "code",
      "execution_count": null,
      "metadata": {
        "id": "19Y6JEb-jdY-"
      },
      "outputs": [],
      "source": [
        "y_array = np.array(y)\n",
        "full_set = np.c_[X_scaled, y_array]\n",
        "X_seq, y_seq = split_sequences(full_set, 25)"
      ]
    },
    {
      "cell_type": "code",
      "execution_count": null,
      "metadata": {
        "id": "Nybmi2yJ4DCh"
      },
      "outputs": [],
      "source": [
        "X_train_new, X_test_new, y_train_new, y_test_new = train_test_split(X_seq, y_seq, test_size=0.25, random_state=1)\n",
        "y_train_new = to_categorical(y_train_new)"
      ]
    },
    {
      "cell_type": "code",
      "execution_count": null,
      "metadata": {
        "colab": {
          "base_uri": "https://localhost:8080/"
        },
        "id": "jwaeQgeF5glp",
        "outputId": "1bbfe581-98fe-4fef-f835-636baab68ec5"
      },
      "outputs": [
        {
          "name": "stdout",
          "output_type": "stream",
          "text": [
            "Epoch 1/10\n",
            "8764/8764 [==============================] - 97s 9ms/step - loss: 0.1534 - accuracy: 0.9532\n",
            "Epoch 2/10\n",
            "8764/8764 [==============================] - 81s 9ms/step - loss: 0.0213 - accuracy: 0.9948\n",
            "Epoch 3/10\n",
            "8764/8764 [==============================] - 79s 9ms/step - loss: 0.0172 - accuracy: 0.9960\n",
            "Epoch 4/10\n",
            "8764/8764 [==============================] - 78s 9ms/step - loss: 0.0130 - accuracy: 0.9969\n",
            "Epoch 5/10\n",
            "8764/8764 [==============================] - 77s 9ms/step - loss: 0.0136 - accuracy: 0.9971\n",
            "Epoch 6/10\n",
            "8764/8764 [==============================] - 77s 9ms/step - loss: 0.0122 - accuracy: 0.9975\n",
            "Epoch 7/10\n",
            "8764/8764 [==============================] - 78s 9ms/step - loss: 0.0109 - accuracy: 0.9979\n",
            "Epoch 8/10\n",
            "8764/8764 [==============================] - 83s 9ms/step - loss: 0.0123 - accuracy: 0.9977\n",
            "Epoch 9/10\n",
            "8764/8764 [==============================] - 79s 9ms/step - loss: 0.0123 - accuracy: 0.9978\n",
            "Epoch 10/10\n",
            "8764/8764 [==============================] - 79s 9ms/step - loss: 0.0136 - accuracy: 0.9978\n"
          ]
        },
        {
          "data": {
            "text/plain": [
              "<keras.callbacks.History at 0x7fb3da163910>"
            ]
          },
          "execution_count": 20,
          "metadata": {
            "tags": []
          },
          "output_type": "execute_result"
        }
      ],
      "source": [
        "  model = Sequential()\n",
        "  model.add(Conv1D(filters=64, kernel_size=3, activation='relu', input_shape=(n_timesteps,n_features), padding='same'))\n",
        "  model.add(Conv1D(filters=64, kernel_size=3, activation='relu', padding='same'))\n",
        "  model.add(Dropout(0.5))\n",
        "  model.add(MaxPooling1D(pool_size=2))\n",
        "  model.add(Flatten())\n",
        "  model.add(Dense(128, activation='relu'))\n",
        "  model.add(Dense(n_outputs, activation='softmax'))\n",
        "  model.compile(optimizer='adam', metrics=['accuracy'], loss='categorical_crossentropy')\n",
        "  model.fit(X_train_new, y_train_new, epochs=10)"
      ]
    },
    {
      "cell_type": "code",
      "execution_count": null,
      "metadata": {
        "colab": {
          "base_uri": "https://localhost:8080/"
        },
        "id": "keZUQb1z6uQ4",
        "outputId": "9c34d59b-77cf-4da8-ebd4-dbdbf10b5c37"
      },
      "outputs": [
        {
          "name": "stdout",
          "output_type": "stream",
          "text": [
            "Model: \"sequential\"\n",
            "_________________________________________________________________\n",
            "Layer (type)                 Output Shape              Param #   \n",
            "=================================================================\n",
            "conv1d (Conv1D)              (None, 25, 64)            4096      \n",
            "_________________________________________________________________\n",
            "conv1d_1 (Conv1D)            (None, 25, 64)            12352     \n",
            "_________________________________________________________________\n",
            "dropout (Dropout)            (None, 25, 64)            0         \n",
            "_________________________________________________________________\n",
            "max_pooling1d (MaxPooling1D) (None, 12, 64)            0         \n",
            "_________________________________________________________________\n",
            "flatten (Flatten)            (None, 768)               0         \n",
            "_________________________________________________________________\n",
            "dense (Dense)                (None, 128)               98432     \n",
            "_________________________________________________________________\n",
            "dense_1 (Dense)              (None, 13)                1677      \n",
            "=================================================================\n",
            "Total params: 116,557\n",
            "Trainable params: 116,557\n",
            "Non-trainable params: 0\n",
            "_________________________________________________________________\n"
          ]
        }
      ],
      "source": [
        "model.summary()"
      ]
    },
    {
      "cell_type": "code",
      "execution_count": null,
      "metadata": {
        "id": "Jyy9b_X45uTr"
      },
      "outputs": [],
      "source": [
        "y_pred = model.predict(X_test_new)\n",
        "y_pred = np.argmax(y_pred, axis = 1)\n",
        "y_pred = y_pred.reshape(-1,1)"
      ]
    },
    {
      "cell_type": "code",
      "execution_count": null,
      "metadata": {
        "colab": {
          "base_uri": "https://localhost:8080/",
          "height": 923
        },
        "id": "C099ED5J89oa",
        "outputId": "4568072d-4f1f-40d9-9b5c-2c0fa0be514e"
      },
      "outputs": [
        {
          "data": {
            "image/png": "[encoded data removed]",
            "text/plain": [
              "<Figure size 1008x864 with 2 Axes>"
            ]
          },
          "metadata": {
            "needs_background": "light",
            "tags": []
          },
          "output_type": "display_data"
        },
        {
          "name": "stdout",
          "output_type": "stream",
          "text": [
            "Accuracy Score: 99.9251%\n",
            "Precision Score: 99.9175%\n",
            "Recall Score: 99.9206%\n",
            "F_1 Score: 99.9190%\n"
          ]
        }
      ],
      "source": [
        "results_summarizer(y_test_new, y_pred)"
      ]
    }
  ],
  "metadata": {
    "accelerator": "GPU",
    "colab": {
      "provenance": []
    },
    "kernelspec": {
      "display_name": "Python 3",
      "language": "python",
      "name": "python3"
    },
    "language_info": {
      "codemirror_mode": {
        "name": "ipython",
        "version": 3
      },
      "file_extension": ".py",
      "mimetype": "text/x-python",
      "name": "python",
      "nbconvert_exporter": "python",
      "pygments_lexer": "ipython3",
      "version": "3.8.3"
    }
  },
  "nbformat": 4,
  "nbformat_minor": 0
}